{
  "nbformat": 4,
  "nbformat_minor": 0,
  "metadata": {
    "colab": {
      "provenance": [],
      "authorship_tag": "ABX9TyPuCeYWWqmcObs9TX+zmhg/",
      "include_colab_link": true
    },
    "kernelspec": {
      "name": "python3",
      "display_name": "Python 3"
    },
    "language_info": {
      "name": "python"
    }
  },
  "cells": [
    {
      "cell_type": "markdown",
      "metadata": {
        "id": "view-in-github",
        "colab_type": "text"
      },
      "source": [
        "<a href=\"https://colab.research.google.com/github/rich-hyun/Kuggle_9th_team_/blob/main/jaehyunkim_NVL.ipynb\" target=\"_parent\"><img src=\"https://colab.research.google.com/assets/colab-badge.svg\" alt=\"Open In Colab\"/></a>"
      ]
    },
    {
      "cell_type": "code",
      "execution_count": 3,
      "metadata": {
        "colab": {
          "base_uri": "https://localhost:8080/"
        },
        "id": "1PGiIfmJynMD",
        "outputId": "35614eeb-bdd2-4235-e8c3-f2ff8d6533ba"
      },
      "outputs": [
        {
          "output_type": "stream",
          "name": "stdout",
          "text": [
            "name                                                    Helen\n",
            "location                                    Wichita Falls, TX\n",
            "Date                                  Reviewed Sept. 13, 2023\n",
            "Rating                                                    5.0\n",
            "Review      Amber and LaDonna at the Starbucks on Southwes...\n",
            "Name: 0, dtype: object\n"
          ]
        }
      ],
      "source": [
        "import pandas as pd\n",
        "\n",
        "# 데이터 로딩\n",
        "df = pd.read_csv('https://raw.githubusercontent.com/rich-hyun/Kuggle_9th_team_/main/reviews_data.csv')\n",
        "\n",
        "# 데이터프레임의 첫 번째 행과 처음 다섯 열을 출력\n",
        "print(df.iloc[0, :5])\n"
      ]
    }
  ]
}