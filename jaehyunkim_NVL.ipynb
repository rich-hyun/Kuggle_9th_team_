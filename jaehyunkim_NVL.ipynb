{
  "nbformat": 4,
  "nbformat_minor": 0,
  "metadata": {
    "colab": {
      "provenance": [],
      "authorship_tag": "ABX9TyPW3cJtp34h9Io2tfI1XTJj",
      "include_colab_link": true
    },
    "kernelspec": {
      "name": "python3",
      "display_name": "Python 3"
    },
    "language_info": {
      "name": "python"
    }
  },
  "cells": [
    {
      "cell_type": "markdown",
      "metadata": {
        "id": "view-in-github",
        "colab_type": "text"
      },
      "source": [
        "<a href=\"https://colab.research.google.com/github/rich-hyun/Kuggle_9th_team_/blob/main/jaehyunkim_NVL.ipynb\" target=\"_parent\"><img src=\"https://colab.research.google.com/assets/colab-badge.svg\" alt=\"Open In Colab\"/></a>"
      ]
    },
    {
      "cell_type": "code",
      "execution_count": null,
      "metadata": {
        "colab": {
          "base_uri": "https://localhost:8080/"
        },
        "id": "1PGiIfmJynMD",
        "outputId": "7f1368bb-20bd-4cdf-dd05-cfb682c85d5c"
      },
      "outputs": [
        {
          "output_type": "stream",
          "name": "stdout",
          "text": [
            "       name           location                     Date  year  mnth  day  \\\n",
            "0     Helen  Wichita Falls, TX  Reviewed Sept. 13, 2023  2023  Sept   13   \n",
            "1  Courtney         Apopka, FL   Reviewed July 16, 2023  2023  July   16   \n",
            "2  Daynelle  Cranberry Twp, PA    Reviewed July 5, 2023  2023  July    5   \n",
            "3    Taylor        Seattle, WA    Reviewed May 26, 2023  2023   May   26   \n",
            "4   Tenessa        Gresham, OR   Reviewed Jan. 22, 2023  2023   Jan   22   \n",
            "\n",
            "   day2_num  Rating                                             Review  \n",
            "0         2     5.0  Amber and LaDonna at the Starbucks on Southwes...  \n",
            "1         6     5.0  ** at the Starbucks by the fire station on 436...  \n",
            "2         2     5.0  I just wanted to go out of my way to recognize...  \n",
            "3         4     5.0  Me and my friend were at Starbucks and my card...  \n",
            "4         6     5.0  I?셫 on this kick of drinking 5 cups of warm wa...  \n",
            "       name           location                     Date  year  mnth  day  \\\n",
            "0     Helen  Wichita Falls, TX  Reviewed Sept. 13, 2023  2023  Sept   13   \n",
            "1  Courtney         Apopka, FL   Reviewed July 16, 2023  2023  July   16   \n",
            "2  Daynelle  Cranberry Twp, PA    Reviewed July 5, 2023  2023  July    5   \n",
            "3    Taylor        Seattle, WA    Reviewed May 26, 2023  2023   May   26   \n",
            "4   Tenessa        Gresham, OR   Reviewed Jan. 22, 2023  2023   Jan   22   \n",
            "\n",
            "   day2_num  Rating                                             Review  \n",
            "0         2     5.0  Amber and LaDonna at the Starbucks on Southwes...  \n",
            "1         6     5.0  ** at the Starbucks by the fire station on 436...  \n",
            "2         2     5.0  I just wanted to go out of my way to recognize...  \n",
            "3         4     5.0  Me and my friend were at Starbucks and my card...  \n",
            "4         6     5.0  I?셫 on this kick of drinking 5 cups of warm wa...  \n"
          ]
        }
      ],
      "source": [
        "import pandas as pd\n",
        "from datetime import datetime\n",
        "import calendar\n",
        "\n",
        "# 데이터 로딩\n",
        "df = pd.read_csv('https://raw.githubusercontent.com/rich-hyun/Kuggle_9th_team_/main/reviews_data.csv',  encoding='utf-8')\n",
        "\n",
        "# 'Date' 열에서 월, 일, 연도를 추출하여 새로운 열에 저장\n",
        "# 'Reviewed' 다음에 오는 단어를 'mnth' 열에 저장\n",
        "df['mnth'] = df['Date'].str.extract(r'Reviewed\\s+([A-Za-z]+)')\n",
        "df['day'] = df['Date'].str.extract(r'(\\d{1,2}),').astype('int')\n",
        "df['year'] = df['Date'].str.extract(r'(\\d{4})').astype('int')\n",
        "\n",
        "# 월 이름을 숫자로 매핑하는 딕셔너리 생성\n",
        "months_map = {\n",
        "    'Jan': 1, 'Feb': 2, 'March': 3, 'April': 4, 'May': 5, 'June': 6,\n",
        "    'July': 7, 'Aug': 8, 'Sept': 9, 'Oct': 10, 'Nov': 11, 'Dec': 12\n",
        "}\n",
        "\n",
        "# 'mnth' 열의 월 이름을 숫자로 변환\n",
        "df['mnth_num'] = df['mnth'].map(months_map)\n",
        "\n",
        "# 월 이름을 숫자로 매핑하는 딕셔너리 생성\n",
        "month_mapping = {v: k for k,v in enumerate(calendar.month_name)}\n",
        "\n",
        "# 월 이름을 월 번호로 변환\n",
        "df['month_num'] = df['mnth'].map(month_mapping)\n",
        "\n",
        "# 날짜로부터 요일을 계산하여 'day2' 열에 저장\n",
        "df['day2'] = df.apply(lambda row: datetime.strptime(f\"{row['year']}-{row['mnth_num']}-{row['day']}\", '%Y-%m-%d').strftime('%A'), axis=1)\n",
        "\n",
        "# 요일 이름을 숫자로 매핑하는 딕셔너리 생성\n",
        "day_to_num = {\n",
        "    'Monday': 0,\n",
        "    'Tuesday': 1,\n",
        "    'Wednesday': 2,\n",
        "    'Thursday': 3,\n",
        "    'Friday': 4,\n",
        "    'Saturday': 5,\n",
        "    'Sunday': 6\n",
        "}\n",
        "\n",
        "# 'day2' 열의 요일 이름을 숫자로 변환\n",
        "df['day2_num'] = df['day2'].map(day_to_num)\n",
        "\n",
        "# 원하는 열만 선택 (새로운 'day2_num' 열을 포함하도록 업데이트)\n",
        "df = df[['name', 'location', 'Date', 'year', 'mnth', 'day', 'day2_num', 'Rating', 'Review']]\n",
        "\n",
        "# 결과 확인\n",
        "print(df.head())\n",
        "\n",
        "# 결과 확인\n",
        "print(df.head())"
      ]
    },
    {
      "cell_type": "code",
      "source": [
        "# 10번째 Review 출력\n",
        "tenth_review = df['Review'].iloc[10]\n",
        "print(tenth_review)"
      ],
      "metadata": {
        "colab": {
          "base_uri": "https://localhost:8080/"
        },
        "id": "nij8H4HSBpIc",
        "outputId": "ae556b92-70b4-46e7-8b18-79f249751350"
      },
      "execution_count": null,
      "outputs": [
        {
          "output_type": "stream",
          "name": "stdout",
          "text": [
            "I filed a BBB complaint last month because Starbucks canceled my Starbucks Reward cards. I couldn't remember the balances, so I guessed about $9. Starbucks played nothing but games and tried everything they could to avoid responding to the complaint. I received a couple of phone call messages asking me to contact them directly and discuss the matter. The number provided was the customer service number and when I spoke with one representative, Linda hung up the phone on me. I did not use my card since 2012 which is my prerogative. Because of this and other reasons, Starbucks decided to close my Starbucks account. I reopened one about a few weeks ago and added a new card that I have not used yet.\n"
          ]
        }
      ]
    },
    {
      "cell_type": "code",
      "source": [
        "import nltk\n",
        "from nltk.tokenize import word_tokenize\n",
        "\n",
        "# nltk의 추가 리소스 다운로드\n",
        "nltk.download('punkt')\n",
        "\n",
        "# 10번째 리뷰 텍스트를 추출\n",
        "tenth_review_text = df['Review'].iloc[9]\n",
        "\n",
        "# 텍스트 토큰화\n",
        "tokens = word_tokenize(tenth_review_text)\n",
        "print(tokens)"
      ],
      "metadata": {
        "colab": {
          "base_uri": "https://localhost:8080/"
        },
        "id": "691D9tA2GqjS",
        "outputId": "dd811302-ef18-4663-8ee7-4edbb6807379"
      },
      "execution_count": null,
      "outputs": [
        {
          "output_type": "stream",
          "name": "stderr",
          "text": [
            "[nltk_data] Downloading package punkt to /root/nltk_data...\n",
            "[nltk_data]   Unzipping tokenizers/punkt.zip.\n"
          ]
        },
        {
          "output_type": "stream",
          "name": "stdout",
          "text": [
            "['Staff', 'at', 'the', 'Smythe', 'St.', 'Superstore', 'location', 'in', 'Fredericton', ',', 'NB', 'often', 'seen', 'tired', 'but', 'today', ',', 'a', 'woman', 'named', 'Senoa', '(', 'Senora', '?', ')', 'was', 'morose', ',', 'glum', ',', 'uncommunicative', '(', 'even', 'after', 'I', 'tried', 'to', 'engage', 'her', 'to', 'sympathize', ',', 'as', 'there', 'was', 'obviously', 'a', 'bad', 'mood', 'happening', ')', ',', 'scruffy', 'looking', ',', 'almost', 'rude', '.', 'And', ',', 'the', 'Americano', 'I', 'ordered', 'tastes', 'watery', '.', 'I', 'go', 'to', 'Starbucks', 'for', 'a', 'treat', 'after', 'a', 'long', 'day', '.', 'It', 'a', 'difficult', 'experience', ',', 'to', 'ease', 'stress', 'and', 'have', 'a', 'pleasant', 'experience', '.', 'I', '?', '셫', 'going', 'to', 'sell', 'a', 'different', 'location', 'after', 'today', '?', '셲', 'grumpy', 'girl', '.']\n"
          ]
        }
      ]
    }
  ]
}